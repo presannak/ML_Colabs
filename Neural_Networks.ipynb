{
  "nbformat": 4,
  "nbformat_minor": 0,
  "metadata": {
    "colab": {
      "provenance": [],
      "authorship_tag": "ABX9TyPLLztsgrpEhh+OXsw8d3sH",
      "include_colab_link": true
    },
    "kernelspec": {
      "name": "python3",
      "display_name": "Python 3"
    },
    "language_info": {
      "name": "python"
    }
  },
  "cells": [
    {
      "cell_type": "markdown",
      "metadata": {
        "id": "view-in-github",
        "colab_type": "text"
      },
      "source": [
        "<a href=\"https://colab.research.google.com/github/presannak/ML_Colabs/blob/main/Neural_Networks.ipynb\" target=\"_parent\"><img src=\"https://colab.research.google.com/assets/colab-badge.svg\" alt=\"Open In Colab\"/></a>"
      ]
    },
    {
      "cell_type": "code",
      "execution_count": 1,
      "metadata": {
        "id": "T6Trt3qVR6an"
      },
      "outputs": [],
      "source": [
        "import numpy as np"
      ]
    },
    {
      "cell_type": "code",
      "source": [
        "x = np.array([[1,0,1,0],[1,0,1,1],[0,1,0,1]])\n",
        "x"
      ],
      "metadata": {
        "colab": {
          "base_uri": "https://localhost:8080/"
        },
        "id": "83MnKBnRSrIz",
        "outputId": "340012dc-1ca3-42ae-b918-8df0d7709210"
      },
      "execution_count": 3,
      "outputs": [
        {
          "output_type": "execute_result",
          "data": {
            "text/plain": [
              "array([[1, 0, 1, 0],\n",
              "       [1, 0, 1, 1],\n",
              "       [0, 1, 0, 1]])"
            ]
          },
          "metadata": {},
          "execution_count": 3
        }
      ]
    },
    {
      "cell_type": "code",
      "source": [
        "y = np.array([[1],[0],[1]])\n",
        "y"
      ],
      "metadata": {
        "colab": {
          "base_uri": "https://localhost:8080/"
        },
        "id": "z9RReXw9S1rL",
        "outputId": "7e28c5e6-d63f-4423-e324-b56d3bfdd6c8"
      },
      "execution_count": 5,
      "outputs": [
        {
          "output_type": "execute_result",
          "data": {
            "text/plain": [
              "array([[1],\n",
              "       [0],\n",
              "       [1]])"
            ]
          },
          "metadata": {},
          "execution_count": 5
        }
      ]
    },
    {
      "cell_type": "code",
      "source": [
        "def sigmoid(x):\n",
        "  return 1/(1+np.exp(-x))"
      ],
      "metadata": {
        "id": "StEv6kImTSpH"
      },
      "execution_count": 6,
      "outputs": []
    },
    {
      "cell_type": "code",
      "source": [
        "def derivative_sigmoid(x):\n",
        "  return x*(1-x)"
      ],
      "metadata": {
        "id": "RrQS_VF8TjWw"
      },
      "execution_count": 7,
      "outputs": []
    },
    {
      "cell_type": "code",
      "source": [
        "epoch = 5000\n",
        "lr = 0.1\n",
        "input_neurons = x.shape[1]\n",
        "hidden_neurons = 3\n",
        "output_neurons = 1"
      ],
      "metadata": {
        "id": "2Ikh4TWBTz9m"
      },
      "execution_count": 8,
      "outputs": []
    },
    {
      "cell_type": "code",
      "source": [
        "wh = np.random.uniform(size=(input_neurons,hidden_neurons))\n",
        "bh = np.random.uniform(size=(1,hidden_neurons))\n",
        "wo = np.random.uniform(size=[hidden_neurons,output_neurons])\n",
        "bo = np.random.uniform(size=[1,output_neurons])"
      ],
      "metadata": {
        "id": "aSjZOtocUaUF"
      },
      "execution_count": 9,
      "outputs": []
    },
    {
      "cell_type": "code",
      "source": [
        "for i in range(epoch):\n",
        "  hidden_input = np.dot(x,wh)\n",
        "  hidden_input = hidden_input + bh\n",
        "  hidden_activation = sigmoid(hidden_input)\n",
        "  output_layer = np.dot(hidden_activation,wo)\n",
        "  output = sigmoid(output_layer)\n",
        "\n",
        "  E = y-output\n",
        "  slope_output = derivative_sigmoid(output)\n",
        "  slope_hidden = derivative_sigmoid(hidden_activation)\n",
        "  d_output = E*slope_output\n",
        "  error_hidden = d_output.dot(wo.T)\n",
        "  d_hidden = error_hidden*slope_hidden\n",
        "  wo+=hidden_activation.T.dot(d_output)*lr\n",
        "  bo+=np.sum(d_output,axis=0,keepdims=True)*lr\n",
        "  wh+=x.T.dot(d_hidden)*lr"
      ],
      "metadata": {
        "id": "nyf6_ZFNWKXS"
      },
      "execution_count": 11,
      "outputs": []
    },
    {
      "cell_type": "code",
      "source": [
        "output"
      ],
      "metadata": {
        "colab": {
          "base_uri": "https://localhost:8080/"
        },
        "id": "576zgqYkZ6ab",
        "outputId": "09b02c0d-5dd7-45ee-d856-034d338a15b7"
      },
      "execution_count": 12,
      "outputs": [
        {
          "output_type": "execute_result",
          "data": {
            "text/plain": [
              "array([[0.9711768 ],\n",
              "       [0.03391545],\n",
              "       [0.979196  ]])"
            ]
          },
          "metadata": {},
          "execution_count": 12
        }
      ]
    },
    {
      "cell_type": "code",
      "source": [],
      "metadata": {
        "id": "KbEmFoteZ-sj"
      },
      "execution_count": null,
      "outputs": []
    }
  ]
}