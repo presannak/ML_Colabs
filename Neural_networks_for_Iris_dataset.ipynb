{
  "nbformat": 4,
  "nbformat_minor": 0,
  "metadata": {
    "colab": {
      "provenance": [],
      "authorship_tag": "ABX9TyPmD8HDsj2KSWiG6pIbytcz",
      "include_colab_link": true
    },
    "kernelspec": {
      "name": "python3",
      "display_name": "Python 3"
    },
    "language_info": {
      "name": "python"
    }
  },
  "cells": [
    {
      "cell_type": "markdown",
      "metadata": {
        "id": "view-in-github",
        "colab_type": "text"
      },
      "source": [
        "<a href=\"https://colab.research.google.com/github/presannak/ML_Colabs/blob/main/Neural_networks_for_Iris_dataset.ipynb\" target=\"_parent\"><img src=\"https://colab.research.google.com/assets/colab-badge.svg\" alt=\"Open In Colab\"/></a>"
      ]
    },
    {
      "cell_type": "code",
      "execution_count": 1,
      "metadata": {
        "colab": {
          "base_uri": "https://localhost:8080/"
        },
        "id": "7nsM2Vxhb0cX",
        "outputId": "ad37b420-2ba3-441b-913c-e02ed1a2ca96"
      },
      "outputs": [
        {
          "output_type": "stream",
          "name": "stdout",
          "text": [
            "Epoch 0, Loss: 0.610620140857052\n",
            "Epoch 100, Loss: 0.3578610351124291\n",
            "Epoch 200, Loss: 0.33857627134061313\n",
            "Epoch 300, Loss: 0.33316468286679446\n",
            "Epoch 400, Loss: 0.3307553637935187\n",
            "Epoch 500, Loss: 0.3294169908389131\n",
            "Epoch 600, Loss: 0.3285721183012651\n",
            "Epoch 700, Loss: 0.32799274461145544\n",
            "Epoch 800, Loss: 0.3275717930436738\n",
            "Epoch 900, Loss: 0.3272526383280068\n",
            "Test Accuracy: 0.6333333333333333\n"
          ]
        }
      ],
      "source": [
        "import numpy as np\n",
        "\n",
        "# Define the sigmoid activation function and its derivative\n",
        "def sigmoid(x):\n",
        "    return 1 / (1 + np.exp(-x))\n",
        "\n",
        "def sigmoid_derivative(x):\n",
        "    return x * (1 - x)\n",
        "\n",
        "# Define the neural network class\n",
        "class NeuralNetwork:\n",
        "    def __init__(self, input_size, hidden_size, output_size):\n",
        "        # Initialize weights and biases with random values\n",
        "        self.weights_input_hidden = np.random.rand(input_size, hidden_size)\n",
        "        self.bias_hidden = np.zeros((1, hidden_size))\n",
        "        self.weights_hidden_output = np.random.rand(hidden_size, output_size)\n",
        "        self.bias_output = np.zeros((1, output_size))\n",
        "\n",
        "    def forward(self, X):\n",
        "        # Forward pass through the network\n",
        "        self.hidden_activation = sigmoid(np.dot(X, self.weights_input_hidden) + self.bias_hidden)\n",
        "        self.output = sigmoid(np.dot(self.hidden_activation, self.weights_hidden_output) + self.bias_output)\n",
        "        return self.output\n",
        "\n",
        "    def backward(self, X, y, learning_rate):\n",
        "        # Backpropagation\n",
        "\n",
        "        # Calculate the loss\n",
        "        loss = y - self.output\n",
        "\n",
        "        # Calculate the output layer gradients\n",
        "        output_gradients = loss * sigmoid_derivative(self.output)\n",
        "\n",
        "        # Update weights and biases for the output layer\n",
        "        self.weights_hidden_output += learning_rate * np.dot(self.hidden_activation.T, output_gradients)\n",
        "        self.bias_output += learning_rate * np.sum(output_gradients, axis=0, keepdims=True)\n",
        "\n",
        "        # Calculate the hidden layer gradients\n",
        "        hidden_gradients = np.dot(output_gradients, self.weights_hidden_output.T) * sigmoid_derivative(self.hidden_activation)\n",
        "\n",
        "        # Update weights and biases for the hidden layer\n",
        "        self.weights_input_hidden += learning_rate * np.dot(X.T, hidden_gradients)\n",
        "        self.bias_hidden += learning_rate * np.sum(hidden_gradients, axis=0, keepdims=True)\n",
        "\n",
        "    def train(self, X, y, epochs, learning_rate):\n",
        "        for epoch in range(epochs):\n",
        "            # Forward and backward pass for each example in the training data\n",
        "            for i in range(len(X)):\n",
        "                input_data = X[i].reshape(1, -1)\n",
        "                target = y[i].reshape(1, -1)\n",
        "\n",
        "                # Forward pass\n",
        "                self.forward(input_data)\n",
        "\n",
        "                # Backward pass\n",
        "                self.backward(input_data, target, learning_rate)\n",
        "\n",
        "            # Print the loss after each epoch\n",
        "            if epoch % 100 == 0:\n",
        "                loss = np.mean(np.square(y - nn.forward(X)))\n",
        "                print(f'Epoch {epoch}, Loss: {loss}')\n",
        "\n",
        "\n",
        "# Example usage with the Iris dataset\n",
        "from sklearn.datasets import load_iris\n",
        "from sklearn.model_selection import train_test_split\n",
        "from sklearn.preprocessing import StandardScaler\n",
        "\n",
        "# Load and preprocess the Iris dataset\n",
        "iris = load_iris()\n",
        "X = iris.data\n",
        "y = iris.target.reshape(-1, 1)  # Reshape to make it a column vector\n",
        "\n",
        "# Standardize the features\n",
        "scaler = StandardScaler()\n",
        "X = scaler.fit_transform(X)\n",
        "\n",
        "# Split the dataset into training and testing sets\n",
        "X_train, X_test, y_train, y_test = train_test_split(X, y, test_size=0.2, random_state=42)\n",
        "\n",
        "# Initialize and train the neural network\n",
        "input_size = X_train.shape[1]\n",
        "hidden_size = 4\n",
        "output_size = 1\n",
        "\n",
        "nn = NeuralNetwork(input_size, hidden_size, output_size)\n",
        "nn.train(X_train, y_train, epochs=1000, learning_rate=0.01)\n",
        "\n",
        "# Evaluate the trained model on the test set\n",
        "predictions = np.round(nn.forward(X_test))\n",
        "accuracy = np.mean(predictions == y_test)\n",
        "print(f'Test Accuracy: {accuracy}')\n"
      ]
    }
  ]
}