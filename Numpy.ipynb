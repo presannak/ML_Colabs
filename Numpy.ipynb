{
  "nbformat": 4,
  "nbformat_minor": 0,
  "metadata": {
    "colab": {
      "provenance": [],
      "authorship_tag": "ABX9TyOLvUerZyGR7jk4cX64WD/N",
      "include_colab_link": true
    },
    "kernelspec": {
      "name": "python3",
      "display_name": "Python 3"
    },
    "language_info": {
      "name": "python"
    }
  },
  "cells": [
    {
      "cell_type": "markdown",
      "metadata": {
        "id": "view-in-github",
        "colab_type": "text"
      },
      "source": [
        "<a href=\"https://colab.research.google.com/github/presannak/Virtual-Academy/blob/main/Numpy.ipynb\" target=\"_parent\"><img src=\"https://colab.research.google.com/assets/colab-badge.svg\" alt=\"Open In Colab\"/></a>"
      ]
    },
    {
      "cell_type": "code",
      "execution_count": null,
      "metadata": {
        "id": "MQNxS3DsZ29G",
        "colab": {
          "base_uri": "https://localhost:8080/"
        },
        "outputId": "8b5f091b-8c2a-447d-eba9-e20db6a61047"
      },
      "outputs": [
        {
          "output_type": "stream",
          "name": "stdout",
          "text": [
            "[]\n",
            "[1]\n",
            "[]\n"
          ]
        }
      ],
      "source": [
        "l=[]\n",
        "print(l)\n",
        "l.append(1)\n",
        "print(l)\n",
        "l.remove(1)\n",
        "print(l)\n",
        "l."
      ]
    },
    {
      "cell_type": "code",
      "source": [
        "t=(1,2,3,1)\n",
        "print(t.index(3))\n",
        "t.count(1)"
      ],
      "metadata": {
        "colab": {
          "base_uri": "https://localhost:8080/"
        },
        "id": "LRzTBOm2bjtu",
        "outputId": "4b637abe-b948-4979-e21a-a244238c69e4"
      },
      "execution_count": null,
      "outputs": [
        {
          "output_type": "stream",
          "name": "stdout",
          "text": [
            "2\n"
          ]
        },
        {
          "output_type": "execute_result",
          "data": {
            "text/plain": [
              "2"
            ]
          },
          "metadata": {},
          "execution_count": 17
        }
      ]
    },
    {
      "cell_type": "code",
      "source": [
        "d={'a':1,'b':2,'c':3}\n",
        "for i in d:\n",
        "  print(d.items())"
      ],
      "metadata": {
        "colab": {
          "base_uri": "https://localhost:8080/"
        },
        "id": "HbaxKqEBcZeH",
        "outputId": "0d0b8638-41da-46f3-d975-ec0bb57076c4"
      },
      "execution_count": null,
      "outputs": [
        {
          "output_type": "stream",
          "name": "stdout",
          "text": [
            "dict_items([('a', 1), ('b', 2), ('c', 3)])\n",
            "dict_items([('a', 1), ('b', 2), ('c', 3)])\n",
            "dict_items([('a', 1), ('b', 2), ('c', 3)])\n"
          ]
        }
      ]
    },
    {
      "cell_type": "code",
      "source": [
        "import numpy as np\n",
        "a=np.array([[1,2],[3,4]])\n",
        "print(a.shape)\n",
        "print(np.zeros((2,2)))\n",
        "print(np.full((2,2),7))\n",
        "f=np.arange(1,11,2)\n",
        "print(f)"
      ],
      "metadata": {
        "colab": {
          "base_uri": "https://localhost:8080/"
        },
        "id": "oHeBSi0sd3I6",
        "outputId": "de14040e-c4f9-4e7b-9052-fd5d5b9a40d6"
      },
      "execution_count": null,
      "outputs": [
        {
          "output_type": "stream",
          "name": "stdout",
          "text": [
            "(2, 2)\n",
            "[[0. 0.]\n",
            " [0. 0.]]\n",
            "[[7 7]\n",
            " [7 7]]\n",
            "[1 3 5 7 9]\n"
          ]
        }
      ]
    },
    {
      "cell_type": "code",
      "source": [
        "g=np.linspace(0.,1.,num=5)\n",
        "print(g)"
      ],
      "metadata": {
        "colab": {
          "base_uri": "https://localhost:8080/"
        },
        "id": "OEs5-E1MhGt3",
        "outputId": "1390709f-3bd5-42fe-c9e5-ac676997c1c7"
      },
      "execution_count": null,
      "outputs": [
        {
          "output_type": "stream",
          "name": "stdout",
          "text": [
            "[0.   0.25 0.5  0.75 1.  ]\n"
          ]
        }
      ]
    },
    {
      "cell_type": "code",
      "source": [
        "data=np.array([1,2,3])\n",
        "data[1]\n",
        "data[0:2]"
      ],
      "metadata": {
        "colab": {
          "base_uri": "https://localhost:8080/"
        },
        "id": "zcxJd2KOiZ8S",
        "outputId": "35678e3d-aeb5-450d-d22f-c16258ebfcfd"
      },
      "execution_count": null,
      "outputs": [
        {
          "output_type": "execute_result",
          "data": {
            "text/plain": [
              "array([1, 2])"
            ]
          },
          "metadata": {},
          "execution_count": 58
        }
      ]
    },
    {
      "cell_type": "code",
      "source": [
        "data=np.array([[1,2,3],[4,5,6]])\n",
        "print(data)\n",
        "print(data[0:3,1])"
      ],
      "metadata": {
        "colab": {
          "base_uri": "https://localhost:8080/"
        },
        "id": "wgkyRJgwirPL",
        "outputId": "1cfe5cf4-007a-447a-d9b6-dafdc00b2f14"
      },
      "execution_count": null,
      "outputs": [
        {
          "output_type": "stream",
          "name": "stdout",
          "text": [
            "[[1 2 3]\n",
            " [4 5 6]]\n",
            "[2 5]\n"
          ]
        }
      ]
    },
    {
      "cell_type": "code",
      "source": [
        "a=np.array([[1,2,3,4],[5,6,7,8],[9,10,11,12]])\n",
        "print(a)"
      ],
      "metadata": {
        "colab": {
          "base_uri": "https://localhost:8080/"
        },
        "id": "N3T7zbU9mCUJ",
        "outputId": "89890eff-87f1-4f3c-bf43-74dccdd84807"
      },
      "execution_count": null,
      "outputs": [
        {
          "output_type": "stream",
          "name": "stdout",
          "text": [
            "[[ 1  2  3  4]\n",
            " [ 5  6  7  8]\n",
            " [ 9 10 11 12]]\n"
          ]
        }
      ]
    },
    {
      "cell_type": "code",
      "source": [
        "a.shape"
      ],
      "metadata": {
        "colab": {
          "base_uri": "https://localhost:8080/"
        },
        "id": "65G1zLh2mR6i",
        "outputId": "8981049f-536e-4dd2-b436-a1d1d1df0e9b"
      },
      "execution_count": null,
      "outputs": [
        {
          "output_type": "execute_result",
          "data": {
            "text/plain": [
              "(3, 4)"
            ]
          },
          "metadata": {},
          "execution_count": 83
        }
      ]
    },
    {
      "cell_type": "code",
      "source": [
        "import numpy as np\n",
        "a=np.array([[1,2,3,4],[5,6,7,8],[9,10,11,12],[13,14,15,16]])\n",
        "print(a)\n",
        "b=np.array([0,2,0,3])\n",
        "print(a[np.arange(4),b])"
      ],
      "metadata": {
        "colab": {
          "base_uri": "https://localhost:8080/"
        },
        "id": "4jiko-2-7fSn",
        "outputId": "fa909c35-7759-4606-99ba-13eb87941909"
      },
      "execution_count": null,
      "outputs": [
        {
          "output_type": "stream",
          "name": "stdout",
          "text": [
            "[[ 1  2  3  4]\n",
            " [ 5  6  7  8]\n",
            " [ 9 10 11 12]\n",
            " [13 14 15 16]]\n",
            "[ 1  7  9 16]\n"
          ]
        }
      ]
    },
    {
      "cell_type": "code",
      "source": [
        "a[np.arange(4),b]+=10\n",
        "print(a)"
      ],
      "metadata": {
        "colab": {
          "base_uri": "https://localhost:8080/"
        },
        "id": "3WWPIRCD9OYa",
        "outputId": "60d26ea6-7f77-46e5-b94d-a6b48e2f2ce7"
      },
      "execution_count": null,
      "outputs": [
        {
          "output_type": "stream",
          "name": "stdout",
          "text": [
            "[[11  2  3  4]\n",
            " [ 5  6 17  8]\n",
            " [19 10 11 12]\n",
            " [13 14 15 26]]\n"
          ]
        }
      ]
    },
    {
      "cell_type": "code",
      "source": [
        "a=np.array([1,8,9,-3,2,4,7,9])\n",
        "print(np.argmax(a))#max\n",
        "print(np.argmin(a))#min\n",
        "print(np.argsort(a))\n",
        "print(np.argsort(a)[::-1])\n",
        "print(np.where(a>5)[0])\n",
        "print(np.where(a>=a[np.argmax(a)])[0])\n"
      ],
      "metadata": {
        "colab": {
          "base_uri": "https://localhost:8080/"
        },
        "id": "j_aCLgV9-Rle",
        "outputId": "ec3bb7d6-1185-4d53-c9bc-744bf74ec585"
      },
      "execution_count": null,
      "outputs": [
        {
          "output_type": "stream",
          "name": "stdout",
          "text": [
            "2\n",
            "3\n",
            "[3 0 4 5 6 1 2 7]\n",
            "[7 2 1 6 5 4 0 3]\n",
            "[1 2 6 7]\n",
            "[2 7]\n"
          ]
        }
      ]
    },
    {
      "cell_type": "code",
      "source": [
        "a=np.array([[1,6],[6,7]])\n",
        "print(np.where(a>5))\n"
      ],
      "metadata": {
        "colab": {
          "base_uri": "https://localhost:8080/"
        },
        "id": "2sFwqaEdCFnO",
        "outputId": "f40b41e8-31f8-40bb-ff90-3a080fabfbcf"
      },
      "execution_count": null,
      "outputs": [
        {
          "output_type": "stream",
          "name": "stdout",
          "text": [
            "(array([0, 1, 1]), array([1, 0, 1]))\n"
          ]
        }
      ]
    },
    {
      "cell_type": "code",
      "source": [
        "a=np.array([[0],[1]])\n",
        "a=np.append(a,[1,2])\n",
        "print(a)"
      ],
      "metadata": {
        "colab": {
          "base_uri": "https://localhost:8080/"
        },
        "id": "1BvtOOe4_kus",
        "outputId": "43d8144b-9699-4535-e97a-eb883c521944"
      },
      "execution_count": null,
      "outputs": [
        {
          "output_type": "stream",
          "name": "stdout",
          "text": [
            "[0 1 1 2]\n"
          ]
        }
      ]
    },
    {
      "cell_type": "code",
      "source": [
        "a=np.array([[11,22,13,10],[5,6,7,22],[9,10,11,2],[13,14,15,16]])\n",
        "a=np.sort(a,axis=1,kind=\"quicksort\")\n",
        "print(a)"
      ],
      "metadata": {
        "colab": {
          "base_uri": "https://localhost:8080/"
        },
        "id": "4zzktAUlCjiG",
        "outputId": "e3e88407-4a4d-445c-fb99-abfbebc9573a"
      },
      "execution_count": null,
      "outputs": [
        {
          "output_type": "stream",
          "name": "stdout",
          "text": [
            "[[10 11 13 22]\n",
            " [ 5  6  7 22]\n",
            " [ 2  9 10 11]\n",
            " [13 14 15 16]]\n"
          ]
        }
      ]
    },
    {
      "cell_type": "code",
      "source": [
        "x=np.array([[1,2],[3,4]])\n",
        "y=np.array(([5,6],[7,8]))\n",
        "\n",
        "v=np.array([9,10])\n",
        "w=np.array([11,12])\n",
        "print(x.dot(y))\n",
        "print(np.dot(x,v))\n",
        "#Transpose\n",
        "print(x.T)"
      ],
      "metadata": {
        "colab": {
          "base_uri": "https://localhost:8080/"
        },
        "id": "CLSyanN6Dq7S",
        "outputId": "5c08f81b-99f1-4963-942d-b1d6ed85bcac"
      },
      "execution_count": null,
      "outputs": [
        {
          "output_type": "stream",
          "name": "stdout",
          "text": [
            "[[19 22]\n",
            " [43 50]]\n",
            "[29 67]\n",
            "[[1 3]\n",
            " [2 4]]\n"
          ]
        }
      ]
    },
    {
      "cell_type": "code",
      "source": [
        "z=np.array([[1],[2],[3],[4]])\n",
        "print(z)\n",
        "w=z.squeeze()\n",
        "print(w)"
      ],
      "metadata": {
        "colab": {
          "base_uri": "https://localhost:8080/"
        },
        "id": "aC0LEwVZFASN",
        "outputId": "25d560fc-b293-4dae-ef9b-75e1f9a27cf9"
      },
      "execution_count": null,
      "outputs": [
        {
          "output_type": "stream",
          "name": "stdout",
          "text": [
            "[[1]\n",
            " [2]\n",
            " [3]\n",
            " [4]]\n",
            "[1 2 3 4]\n"
          ]
        }
      ]
    },
    {
      "cell_type": "code",
      "source": [
        "#Broadcasting\n",
        "a=np.array([1,2,3])\n",
        "print(a+1)"
      ],
      "metadata": {
        "colab": {
          "base_uri": "https://localhost:8080/"
        },
        "id": "syH8UfYgFryR",
        "outputId": "caa0cbd4-5c91-497e-f031-0bcd3cf107ba"
      },
      "execution_count": null,
      "outputs": [
        {
          "output_type": "stream",
          "name": "stdout",
          "text": [
            "[2 3 4]\n"
          ]
        }
      ]
    },
    {
      "cell_type": "code",
      "source": [
        "np.array([[1,2,3],[4,5,6]])+np.array([1,2,3])"
      ],
      "metadata": {
        "colab": {
          "base_uri": "https://localhost:8080/"
        },
        "id": "-F3oRgYpF5i2",
        "outputId": "5888b54f-35a6-4b66-bb07-165a0cc0674d"
      },
      "execution_count": null,
      "outputs": [
        {
          "output_type": "execute_result",
          "data": {
            "text/plain": [
              "array([[2, 4, 6],\n",
              "       [5, 7, 9]])"
            ]
          },
          "metadata": {},
          "execution_count": 55
        }
      ]
    },
    {
      "cell_type": "code",
      "source": [
        "np.array([1,2,3])+np.array([[4],[5],[6]])"
      ],
      "metadata": {
        "colab": {
          "base_uri": "https://localhost:8080/"
        },
        "id": "7CSevH4sGcKQ",
        "outputId": "4a2d3ef7-345f-42f4-8bbf-1acadca281b3"
      },
      "execution_count": null,
      "outputs": [
        {
          "output_type": "execute_result",
          "data": {
            "text/plain": [
              "array([[5, 6, 7],\n",
              "       [6, 7, 8],\n",
              "       [7, 8, 9]])"
            ]
          },
          "metadata": {},
          "execution_count": 56
        }
      ]
    },
    {
      "cell_type": "code",
      "source": [
        "np.array([1,2])*5"
      ],
      "metadata": {
        "id": "hftWzfqxG6Yr",
        "outputId": "f0969c03-f840-4601-d34b-1c89ab24cd77",
        "colab": {
          "base_uri": "https://localhost:8080/"
        }
      },
      "execution_count": null,
      "outputs": [
        {
          "output_type": "execute_result",
          "data": {
            "text/plain": [
              "array([ 5, 10])"
            ]
          },
          "metadata": {},
          "execution_count": 57
        }
      ]
    }
  ]
}